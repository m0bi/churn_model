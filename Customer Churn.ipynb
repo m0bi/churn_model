{
 "cells": [
  {
   "cell_type": "code",
   "execution_count": 77,
   "metadata": {},
   "outputs": [],
   "source": [
    "import numpy as np\n",
    "import matplotlib.pyplot as plt\n",
    "import pandas as pd\n",
    "from sklearn.preprocessing import StandardScaler\n",
    "from sklearn.model_selection import train_test_split\n",
    "from sklearn.metrics import confusion_matrix\n",
    "from sklearn.preprocessing import LabelEncoder, OneHotEncoder\n",
    "import keras\n",
    "from keras.models import Sequential\n",
    "from keras.layers import Dense, Dropout\n",
    "from keras.wrappers.scikit_learn import KerasClassifier # KerasRegressor also works\n",
    "from sklearn.model_selection import cross_val_score, GridSearchCV"
   ]
  },
  {
   "cell_type": "code",
   "execution_count": 78,
   "metadata": {},
   "outputs": [],
   "source": [
    "dataset = pd.read_csv(\"Churn_Modelling.csv\")\n",
    "X = dataset.iloc[:,3:13].values\n",
    "y = dataset.iloc[:,13].values"
   ]
  },
  {
   "cell_type": "code",
   "execution_count": 79,
   "metadata": {},
   "outputs": [
    {
     "data": {
      "text/html": [
       "<div>\n",
       "<style scoped>\n",
       "    .dataframe tbody tr th:only-of-type {\n",
       "        vertical-align: middle;\n",
       "    }\n",
       "\n",
       "    .dataframe tbody tr th {\n",
       "        vertical-align: top;\n",
       "    }\n",
       "\n",
       "    .dataframe thead th {\n",
       "        text-align: right;\n",
       "    }\n",
       "</style>\n",
       "<table border=\"1\" class=\"dataframe\">\n",
       "  <thead>\n",
       "    <tr style=\"text-align: right;\">\n",
       "      <th></th>\n",
       "      <th>RowNumber</th>\n",
       "      <th>CustomerId</th>\n",
       "      <th>Surname</th>\n",
       "      <th>CreditScore</th>\n",
       "      <th>Geography</th>\n",
       "      <th>Gender</th>\n",
       "      <th>Age</th>\n",
       "      <th>Tenure</th>\n",
       "      <th>Balance</th>\n",
       "      <th>NumOfProducts</th>\n",
       "      <th>HasCrCard</th>\n",
       "      <th>IsActiveMember</th>\n",
       "      <th>EstimatedSalary</th>\n",
       "      <th>Exited</th>\n",
       "    </tr>\n",
       "  </thead>\n",
       "  <tbody>\n",
       "    <tr>\n",
       "      <th>0</th>\n",
       "      <td>1</td>\n",
       "      <td>15634602</td>\n",
       "      <td>Hargrave</td>\n",
       "      <td>619</td>\n",
       "      <td>France</td>\n",
       "      <td>Female</td>\n",
       "      <td>42</td>\n",
       "      <td>2</td>\n",
       "      <td>0.00</td>\n",
       "      <td>1</td>\n",
       "      <td>1</td>\n",
       "      <td>1</td>\n",
       "      <td>101348.88</td>\n",
       "      <td>1</td>\n",
       "    </tr>\n",
       "    <tr>\n",
       "      <th>1</th>\n",
       "      <td>2</td>\n",
       "      <td>15647311</td>\n",
       "      <td>Hill</td>\n",
       "      <td>608</td>\n",
       "      <td>Spain</td>\n",
       "      <td>Female</td>\n",
       "      <td>41</td>\n",
       "      <td>1</td>\n",
       "      <td>83807.86</td>\n",
       "      <td>1</td>\n",
       "      <td>0</td>\n",
       "      <td>1</td>\n",
       "      <td>112542.58</td>\n",
       "      <td>0</td>\n",
       "    </tr>\n",
       "    <tr>\n",
       "      <th>2</th>\n",
       "      <td>3</td>\n",
       "      <td>15619304</td>\n",
       "      <td>Onio</td>\n",
       "      <td>502</td>\n",
       "      <td>France</td>\n",
       "      <td>Female</td>\n",
       "      <td>42</td>\n",
       "      <td>8</td>\n",
       "      <td>159660.80</td>\n",
       "      <td>3</td>\n",
       "      <td>1</td>\n",
       "      <td>0</td>\n",
       "      <td>113931.57</td>\n",
       "      <td>1</td>\n",
       "    </tr>\n",
       "    <tr>\n",
       "      <th>3</th>\n",
       "      <td>4</td>\n",
       "      <td>15701354</td>\n",
       "      <td>Boni</td>\n",
       "      <td>699</td>\n",
       "      <td>France</td>\n",
       "      <td>Female</td>\n",
       "      <td>39</td>\n",
       "      <td>1</td>\n",
       "      <td>0.00</td>\n",
       "      <td>2</td>\n",
       "      <td>0</td>\n",
       "      <td>0</td>\n",
       "      <td>93826.63</td>\n",
       "      <td>0</td>\n",
       "    </tr>\n",
       "    <tr>\n",
       "      <th>4</th>\n",
       "      <td>5</td>\n",
       "      <td>15737888</td>\n",
       "      <td>Mitchell</td>\n",
       "      <td>850</td>\n",
       "      <td>Spain</td>\n",
       "      <td>Female</td>\n",
       "      <td>43</td>\n",
       "      <td>2</td>\n",
       "      <td>125510.82</td>\n",
       "      <td>1</td>\n",
       "      <td>1</td>\n",
       "      <td>1</td>\n",
       "      <td>79084.10</td>\n",
       "      <td>0</td>\n",
       "    </tr>\n",
       "  </tbody>\n",
       "</table>\n",
       "</div>"
      ],
      "text/plain": [
       "   RowNumber  CustomerId   Surname  CreditScore Geography  Gender  Age  \\\n",
       "0          1    15634602  Hargrave          619    France  Female   42   \n",
       "1          2    15647311      Hill          608     Spain  Female   41   \n",
       "2          3    15619304      Onio          502    France  Female   42   \n",
       "3          4    15701354      Boni          699    France  Female   39   \n",
       "4          5    15737888  Mitchell          850     Spain  Female   43   \n",
       "\n",
       "   Tenure    Balance  NumOfProducts  HasCrCard  IsActiveMember  \\\n",
       "0       2       0.00              1          1               1   \n",
       "1       1   83807.86              1          0               1   \n",
       "2       8  159660.80              3          1               0   \n",
       "3       1       0.00              2          0               0   \n",
       "4       2  125510.82              1          1               1   \n",
       "\n",
       "   EstimatedSalary  Exited  \n",
       "0        101348.88       1  \n",
       "1        112542.58       0  \n",
       "2        113931.57       1  \n",
       "3         93826.63       0  \n",
       "4         79084.10       0  "
      ]
     },
     "execution_count": 79,
     "metadata": {},
     "output_type": "execute_result"
    }
   ],
   "source": [
    "dataset.head()"
   ]
  },
  {
   "cell_type": "code",
   "execution_count": 80,
   "metadata": {},
   "outputs": [],
   "source": [
    "le_X_1 = LabelEncoder()\n",
    "X[:,1] = le_X_1.fit_transform(X[:,1])"
   ]
  },
  {
   "cell_type": "code",
   "execution_count": 81,
   "metadata": {},
   "outputs": [],
   "source": [
    "le_X_2 = LabelEncoder()\n",
    "X[:,2] = le_X_2.fit_transform(X[:,2])"
   ]
  },
  {
   "cell_type": "code",
   "execution_count": 82,
   "metadata": {},
   "outputs": [],
   "source": [
    "X_train, X_test, y_train, y_test = train_test_split(X,y,test_size = 0.2, random_state = 0)"
   ]
  },
  {
   "cell_type": "code",
   "execution_count": 83,
   "metadata": {},
   "outputs": [],
   "source": [
    "sc = StandardScaler()\n",
    "X_train = sc.fit_transform(X_train)\n",
    "X_test = sc.transform(X_test)"
   ]
  },
  {
   "cell_type": "code",
   "execution_count": 17,
   "metadata": {},
   "outputs": [],
   "source": [
    "classifier = Sequential()"
   ]
  },
  {
   "cell_type": "code",
   "execution_count": 18,
   "metadata": {},
   "outputs": [],
   "source": [
    "classifier.add(Dense(6, kernel_initializer='uniform', activation='relu', input_dim=10))\n",
    "classifier.add(Dense(6, kernel_initializer='uniform', activation='relu'))\n",
    "classifier.add(Dense(1, kernel_initializer='uniform', activation='sigmoid')) \n",
    "# activation='softmax' for more than 2 categories"
   ]
  },
  {
   "cell_type": "code",
   "execution_count": 19,
   "metadata": {},
   "outputs": [],
   "source": [
    "classifier.compile(optimizer='adam',loss='binary_crossentropy', metrics=['accuracy']) \n",
    "#loss='categorical_crossentropy' for more than 2 categories"
   ]
  },
  {
   "cell_type": "code",
   "execution_count": 20,
   "metadata": {},
   "outputs": [
    {
     "name": "stdout",
     "output_type": "stream",
     "text": [
      "WARNING:tensorflow:From /home/ezra/.local/lib/python3.6/site-packages/tensorflow/python/ops/math_ops.py:3066: to_int32 (from tensorflow.python.ops.math_ops) is deprecated and will be removed in a future version.\n",
      "Instructions for updating:\n",
      "Use tf.cast instead.\n"
     ]
    },
    {
     "name": "stderr",
     "output_type": "stream",
     "text": [
      "/usr/local/lib/python3.6/dist-packages/ipykernel_launcher.py:1: UserWarning: The `nb_epoch` argument in `fit` has been renamed `epochs`.\n",
      "  \"\"\"Entry point for launching an IPython kernel.\n"
     ]
    },
    {
     "name": "stdout",
     "output_type": "stream",
     "text": [
      "Epoch 1/100\n",
      "8000/8000 [==============================] - 1s 88us/step - loss: 0.4891 - acc: 0.7956\n",
      "Epoch 2/100\n",
      "8000/8000 [==============================] - 0s 60us/step - loss: 0.4351 - acc: 0.7960\n",
      "Epoch 3/100\n",
      "8000/8000 [==============================] - 0s 60us/step - loss: 0.4299 - acc: 0.7960\n",
      "Epoch 4/100\n",
      "8000/8000 [==============================] - 0s 59us/step - loss: 0.4248 - acc: 0.8110\n",
      "Epoch 5/100\n",
      "8000/8000 [==============================] - 0s 60us/step - loss: 0.4218 - acc: 0.8239\n",
      "Epoch 6/100\n",
      "8000/8000 [==============================] - 0s 60us/step - loss: 0.4193 - acc: 0.8270\n",
      "Epoch 7/100\n",
      "8000/8000 [==============================] - 0s 62us/step - loss: 0.4176 - acc: 0.8294\n",
      "Epoch 8/100\n",
      "8000/8000 [==============================] - 1s 63us/step - loss: 0.4158 - acc: 0.8307\n",
      "Epoch 9/100\n",
      "8000/8000 [==============================] - 1s 63us/step - loss: 0.4139 - acc: 0.8322\n",
      "Epoch 10/100\n",
      "8000/8000 [==============================] - 0s 61us/step - loss: 0.4130 - acc: 0.8307\n",
      "Epoch 11/100\n",
      "8000/8000 [==============================] - 0s 60us/step - loss: 0.4107 - acc: 0.8326\n",
      "Epoch 12/100\n",
      "8000/8000 [==============================] - 0s 62us/step - loss: 0.4098 - acc: 0.8324\n",
      "Epoch 13/100\n",
      "8000/8000 [==============================] - 1s 67us/step - loss: 0.4094 - acc: 0.8329\n",
      "Epoch 14/100\n",
      "8000/8000 [==============================] - 1s 64us/step - loss: 0.4080 - acc: 0.8325\n",
      "Epoch 15/100\n",
      "8000/8000 [==============================] - 1s 64us/step - loss: 0.4080 - acc: 0.8329\n",
      "Epoch 16/100\n",
      "8000/8000 [==============================] - 0s 61us/step - loss: 0.4072 - acc: 0.8330\n",
      "Epoch 17/100\n",
      "8000/8000 [==============================] - 0s 58us/step - loss: 0.4065 - acc: 0.8355\n",
      "Epoch 18/100\n",
      "8000/8000 [==============================] - 0s 62us/step - loss: 0.4057 - acc: 0.8334\n",
      "Epoch 19/100\n",
      "8000/8000 [==============================] - 1s 64us/step - loss: 0.4055 - acc: 0.8342\n",
      "Epoch 20/100\n",
      "8000/8000 [==============================] - 0s 60us/step - loss: 0.4048 - acc: 0.8342\n",
      "Epoch 21/100\n",
      "8000/8000 [==============================] - 0s 61us/step - loss: 0.4048 - acc: 0.8337\n",
      "Epoch 22/100\n",
      "8000/8000 [==============================] - 0s 62us/step - loss: 0.4042 - acc: 0.8336\n",
      "Epoch 23/100\n",
      "8000/8000 [==============================] - 1s 67us/step - loss: 0.4035 - acc: 0.8339\n",
      "Epoch 24/100\n",
      "8000/8000 [==============================] - 0s 62us/step - loss: 0.4032 - acc: 0.8344\n",
      "Epoch 25/100\n",
      "8000/8000 [==============================] - 0s 62us/step - loss: 0.4031 - acc: 0.8356\n",
      "Epoch 26/100\n",
      "8000/8000 [==============================] - 0s 61us/step - loss: 0.4023 - acc: 0.8357\n",
      "Epoch 27/100\n",
      "8000/8000 [==============================] - 1s 65us/step - loss: 0.4028 - acc: 0.8351\n",
      "Epoch 28/100\n",
      "8000/8000 [==============================] - 1s 65us/step - loss: 0.4024 - acc: 0.8361\n",
      "Epoch 29/100\n",
      "8000/8000 [==============================] - 0s 62us/step - loss: 0.4025 - acc: 0.8342\n",
      "Epoch 30/100\n",
      "8000/8000 [==============================] - 1s 64us/step - loss: 0.4020 - acc: 0.8355\n",
      "Epoch 31/100\n",
      "8000/8000 [==============================] - 0s 62us/step - loss: 0.4019 - acc: 0.8351\n",
      "Epoch 32/100\n",
      "8000/8000 [==============================] - 1s 65us/step - loss: 0.4017 - acc: 0.8351\n",
      "Epoch 33/100\n",
      "8000/8000 [==============================] - 1s 66us/step - loss: 0.4009 - acc: 0.8347\n",
      "Epoch 34/100\n",
      "8000/8000 [==============================] - 1s 64us/step - loss: 0.4012 - acc: 0.8359\n",
      "Epoch 35/100\n",
      "8000/8000 [==============================] - 1s 65us/step - loss: 0.4017 - acc: 0.8347\n",
      "Epoch 36/100\n",
      "8000/8000 [==============================] - 0s 62us/step - loss: 0.4014 - acc: 0.8359\n",
      "Epoch 37/100\n",
      "8000/8000 [==============================] - 0s 62us/step - loss: 0.4007 - acc: 0.8352\n",
      "Epoch 38/100\n",
      "8000/8000 [==============================] - 0s 61us/step - loss: 0.4015 - acc: 0.8355\n",
      "Epoch 39/100\n",
      "8000/8000 [==============================] - 1s 66us/step - loss: 0.4010 - acc: 0.8349\n",
      "Epoch 40/100\n",
      "8000/8000 [==============================] - 1s 65us/step - loss: 0.4009 - acc: 0.8366\n",
      "Epoch 41/100\n",
      "8000/8000 [==============================] - 0s 62us/step - loss: 0.3998 - acc: 0.8345\n",
      "Epoch 42/100\n",
      "8000/8000 [==============================] - 0s 61us/step - loss: 0.4014 - acc: 0.8356\n",
      "Epoch 43/100\n",
      "8000/8000 [==============================] - 0s 62us/step - loss: 0.4004 - acc: 0.8350\n",
      "Epoch 44/100\n",
      "8000/8000 [==============================] - 1s 67us/step - loss: 0.4009 - acc: 0.8356\n",
      "Epoch 45/100\n",
      "8000/8000 [==============================] - 0s 62us/step - loss: 0.4009 - acc: 0.8372\n",
      "Epoch 46/100\n",
      "8000/8000 [==============================] - 0s 61us/step - loss: 0.4009 - acc: 0.8349\n",
      "Epoch 47/100\n",
      "8000/8000 [==============================] - 0s 60us/step - loss: 0.4003 - acc: 0.8345\n",
      "Epoch 48/100\n",
      "8000/8000 [==============================] - 1s 66us/step - loss: 0.4006 - acc: 0.8354\n",
      "Epoch 49/100\n",
      "8000/8000 [==============================] - 1s 64us/step - loss: 0.4008 - acc: 0.8362\n",
      "Epoch 50/100\n",
      "8000/8000 [==============================] - 0s 60us/step - loss: 0.4006 - acc: 0.8370\n",
      "Epoch 51/100\n",
      "8000/8000 [==============================] - 1s 63us/step - loss: 0.4004 - acc: 0.8356\n",
      "Epoch 52/100\n",
      "8000/8000 [==============================] - 1s 65us/step - loss: 0.4000 - acc: 0.8360\n",
      "Epoch 53/100\n",
      "8000/8000 [==============================] - 1s 64us/step - loss: 0.4006 - acc: 0.8355\n",
      "Epoch 54/100\n",
      "8000/8000 [==============================] - 1s 64us/step - loss: 0.4004 - acc: 0.8375\n",
      "Epoch 55/100\n",
      "8000/8000 [==============================] - 1s 63us/step - loss: 0.4002 - acc: 0.8360\n",
      "Epoch 56/100\n",
      "8000/8000 [==============================] - 0s 62us/step - loss: 0.4004 - acc: 0.8369\n",
      "Epoch 57/100\n",
      "8000/8000 [==============================] - 0s 62us/step - loss: 0.4005 - acc: 0.8361\n",
      "Epoch 58/100\n",
      "8000/8000 [==============================] - 1s 63us/step - loss: 0.4001 - acc: 0.8355\n",
      "Epoch 59/100\n",
      "8000/8000 [==============================] - 0s 60us/step - loss: 0.4002 - acc: 0.8357\n",
      "Epoch 60/100\n",
      "8000/8000 [==============================] - 0s 62us/step - loss: 0.4001 - acc: 0.8339\n",
      "Epoch 61/100\n",
      "8000/8000 [==============================] - 0s 62us/step - loss: 0.3999 - acc: 0.8357\n",
      "Epoch 62/100\n",
      "8000/8000 [==============================] - 0s 62us/step - loss: 0.3999 - acc: 0.8349\n",
      "Epoch 63/100\n",
      "8000/8000 [==============================] - 0s 60us/step - loss: 0.4002 - acc: 0.8349\n",
      "Epoch 64/100\n",
      "8000/8000 [==============================] - 0s 61us/step - loss: 0.4004 - acc: 0.8357\n",
      "Epoch 65/100\n",
      "8000/8000 [==============================] - 0s 62us/step - loss: 0.4005 - acc: 0.8334\n",
      "Epoch 66/100\n",
      "8000/8000 [==============================] - 1s 63us/step - loss: 0.4004 - acc: 0.8364\n",
      "Epoch 67/100\n",
      "8000/8000 [==============================] - 1s 63us/step - loss: 0.4000 - acc: 0.8344\n",
      "Epoch 68/100\n",
      "8000/8000 [==============================] - 0s 60us/step - loss: 0.4000 - acc: 0.8344\n",
      "Epoch 69/100\n",
      "8000/8000 [==============================] - 0s 62us/step - loss: 0.4003 - acc: 0.8341\n",
      "Epoch 70/100\n",
      "8000/8000 [==============================] - 1s 64us/step - loss: 0.4001 - acc: 0.8360\n",
      "Epoch 71/100\n",
      "8000/8000 [==============================] - 0s 62us/step - loss: 0.4000 - acc: 0.8351\n",
      "Epoch 72/100\n",
      "8000/8000 [==============================] - 1s 63us/step - loss: 0.4001 - acc: 0.8346\n",
      "Epoch 73/100\n",
      "8000/8000 [==============================] - 0s 59us/step - loss: 0.3999 - acc: 0.8359\n",
      "Epoch 74/100\n",
      "8000/8000 [==============================] - 0s 60us/step - loss: 0.4004 - acc: 0.8356\n",
      "Epoch 75/100\n",
      "8000/8000 [==============================] - 1s 63us/step - loss: 0.4001 - acc: 0.8357\n",
      "Epoch 76/100\n",
      "8000/8000 [==============================] - 1s 64us/step - loss: 0.4003 - acc: 0.8345\n",
      "Epoch 77/100\n",
      "8000/8000 [==============================] - 0s 61us/step - loss: 0.3998 - acc: 0.8346\n",
      "Epoch 78/100\n",
      "8000/8000 [==============================] - 0s 60us/step - loss: 0.4000 - acc: 0.8360\n",
      "Epoch 79/100\n",
      "8000/8000 [==============================] - 0s 62us/step - loss: 0.4000 - acc: 0.8356\n",
      "Epoch 80/100\n",
      "8000/8000 [==============================] - 0s 60us/step - loss: 0.3999 - acc: 0.8355\n",
      "Epoch 81/100\n",
      "8000/8000 [==============================] - 1s 66us/step - loss: 0.3998 - acc: 0.8351\n",
      "Epoch 82/100\n",
      "8000/8000 [==============================] - 0s 60us/step - loss: 0.3996 - acc: 0.8350\n",
      "Epoch 83/100\n"
     ]
    },
    {
     "name": "stdout",
     "output_type": "stream",
     "text": [
      "8000/8000 [==============================] - 1s 63us/step - loss: 0.3997 - acc: 0.8351\n",
      "Epoch 84/100\n",
      "8000/8000 [==============================] - 0s 62us/step - loss: 0.4005 - acc: 0.8364\n",
      "Epoch 85/100\n",
      "8000/8000 [==============================] - 0s 60us/step - loss: 0.3997 - acc: 0.8365\n",
      "Epoch 86/100\n",
      "8000/8000 [==============================] - 0s 60us/step - loss: 0.3994 - acc: 0.8347\n",
      "Epoch 87/100\n",
      "8000/8000 [==============================] - 0s 61us/step - loss: 0.3998 - acc: 0.8357\n",
      "Epoch 88/100\n",
      "8000/8000 [==============================] - 0s 59us/step - loss: 0.3993 - acc: 0.8349\n",
      "Epoch 89/100\n",
      "8000/8000 [==============================] - 1s 63us/step - loss: 0.3997 - acc: 0.8337\n",
      "Epoch 90/100\n",
      "8000/8000 [==============================] - 0s 62us/step - loss: 0.3997 - acc: 0.8340\n",
      "Epoch 91/100\n",
      "8000/8000 [==============================] - 0s 60us/step - loss: 0.4001 - acc: 0.8357\n",
      "Epoch 92/100\n",
      "8000/8000 [==============================] - 0s 62us/step - loss: 0.3991 - acc: 0.8346\n",
      "Epoch 93/100\n",
      "8000/8000 [==============================] - 0s 60us/step - loss: 0.3997 - acc: 0.8356\n",
      "Epoch 94/100\n",
      "8000/8000 [==============================] - 0s 62us/step - loss: 0.3997 - acc: 0.8345\n",
      "Epoch 95/100\n",
      "8000/8000 [==============================] - 0s 60us/step - loss: 0.3999 - acc: 0.8346\n",
      "Epoch 96/100\n",
      "8000/8000 [==============================] - 0s 61us/step - loss: 0.3991 - acc: 0.8342\n",
      "Epoch 97/100\n",
      "8000/8000 [==============================] - 1s 63us/step - loss: 0.3992 - acc: 0.8345\n",
      "Epoch 98/100\n",
      "8000/8000 [==============================] - 0s 61us/step - loss: 0.3994 - acc: 0.8350\n",
      "Epoch 99/100\n",
      "8000/8000 [==============================] - 0s 61us/step - loss: 0.4002 - acc: 0.8349\n",
      "Epoch 100/100\n",
      "8000/8000 [==============================] - 1s 63us/step - loss: 0.4000 - acc: 0.8334\n"
     ]
    },
    {
     "data": {
      "text/plain": [
       "<keras.callbacks.History at 0x7f9651a11c18>"
      ]
     },
     "execution_count": 20,
     "metadata": {},
     "output_type": "execute_result"
    }
   ],
   "source": [
    "classifier.fit(X_train, y_train, batch_size=10, nb_epoch=100)"
   ]
  },
  {
   "cell_type": "code",
   "execution_count": 21,
   "metadata": {},
   "outputs": [],
   "source": [
    "y_pred = classifier.predict(X_test)"
   ]
  },
  {
   "cell_type": "code",
   "execution_count": 24,
   "metadata": {},
   "outputs": [],
   "source": [
    "y_pred = (y_pred > 0.5)"
   ]
  },
  {
   "cell_type": "code",
   "execution_count": 25,
   "metadata": {},
   "outputs": [],
   "source": [
    "cm = confusion_matrix(y_test, y_pred)"
   ]
  },
  {
   "cell_type": "code",
   "execution_count": 26,
   "metadata": {},
   "outputs": [
    {
     "data": {
      "text/plain": [
       "array([[1551,   44],\n",
       "       [ 273,  132]])"
      ]
     },
     "execution_count": 26,
     "metadata": {},
     "output_type": "execute_result"
    }
   ],
   "source": [
    "cm"
   ]
  },
  {
   "cell_type": "code",
   "execution_count": 57,
   "metadata": {},
   "outputs": [],
   "source": [
    "def build_classifier():\n",
    "    classifier = Sequential()\n",
    "    classifier.add(Dense(6, kernel_initializer='uniform', activation='relu', input_dim=10))\n",
    "    classifier.add(Dropout(0.1))\n",
    "    classifier.add(Dense(6, kernel_initializer='uniform', activation='relu'))\n",
    "    classifier.add(Dropout(0.2))\n",
    "    classifier.add(Dense(1, kernel_initializer='uniform', activation='sigmoid')) \n",
    "    classifier.compile(optimizer='adam',loss='binary_crossentropy', metrics=['accuracy']) \n",
    "    return classifier"
   ]
  },
  {
   "cell_type": "code",
   "execution_count": 58,
   "metadata": {},
   "outputs": [],
   "source": [
    "classifier = KerasClassifier(build_fn=build_classifier, batch_size = 10, nb_epoch=100)"
   ]
  },
  {
   "cell_type": "code",
   "execution_count": 59,
   "metadata": {},
   "outputs": [],
   "source": [
    "accuracies = cross_val_score(classifier, X_train, y_train, cv=10, n_jobs=-1)"
   ]
  },
  {
   "cell_type": "code",
   "execution_count": 60,
   "metadata": {},
   "outputs": [
    {
     "data": {
      "text/plain": [
       "array([0.78625   , 0.79      , 0.8       , 0.7825    , 0.81625   ,\n",
       "       0.81      , 0.7875    , 0.79375   , 0.79875   , 0.79499999])"
      ]
     },
     "execution_count": 60,
     "metadata": {},
     "output_type": "execute_result"
    }
   ],
   "source": [
    "accuracies"
   ]
  },
  {
   "cell_type": "code",
   "execution_count": 61,
   "metadata": {},
   "outputs": [
    {
     "data": {
      "text/plain": [
       "0.7959999969601632"
      ]
     },
     "execution_count": 61,
     "metadata": {},
     "output_type": "execute_result"
    }
   ],
   "source": [
    "accuracies.mean()"
   ]
  },
  {
   "cell_type": "code",
   "execution_count": 62,
   "metadata": {},
   "outputs": [
    {
     "data": {
      "text/plain": [
       "0.010105690620981692"
      ]
     },
     "execution_count": 62,
     "metadata": {},
     "output_type": "execute_result"
    }
   ],
   "source": [
    "accuracies.std()"
   ]
  },
  {
   "cell_type": "code",
   "execution_count": 84,
   "metadata": {},
   "outputs": [],
   "source": [
    "def build_classifier(optimizer, units):\n",
    "    classifier = Sequential()\n",
    "    classifier.add(Dense(units, kernel_initializer='uniform', activation='relu', input_dim=10))\n",
    "    classifier.add(Dropout(0.1))\n",
    "    classifier.add(Dense(units, kernel_initializer='uniform', activation='relu'))\n",
    "    classifier.add(Dropout(0.2))\n",
    "    classifier.add(Dense(1, kernel_initializer='uniform', activation='sigmoid')) \n",
    "    classifier.compile(optimizer=optimizer,loss='binary_crossentropy', metrics=['accuracy']) \n",
    "    return classifier"
   ]
  },
  {
   "cell_type": "code",
   "execution_count": 85,
   "metadata": {},
   "outputs": [],
   "source": [
    "classifier = KerasClassifier(build_fn=build_classifier)\n",
    "parameters = {\n",
    "    'batch_size': [10, 25, 32, 100],\n",
    "    'nb_epoch': [100, 500],\n",
    "    'optimizer': ['adam', 'rmsprop'],\n",
    "    'units': [6,12]\n",
    "}"
   ]
  },
  {
   "cell_type": "code",
   "execution_count": 86,
   "metadata": {},
   "outputs": [],
   "source": [
    "grid_search = GridSearchCV(classifier, param_grid=parameters, scoring=\"accuracy\", cv=10, n_jobs=-1)"
   ]
  },
  {
   "cell_type": "code",
   "execution_count": 87,
   "metadata": {},
   "outputs": [
    {
     "name": "stdout",
     "output_type": "stream",
     "text": [
      "Epoch 1/1\n",
      "8000/8000 [==============================] - 1s 151us/step - loss: 0.4913 - acc: 0.7946\n"
     ]
    },
    {
     "data": {
      "text/plain": [
       "GridSearchCV(cv=10, error_score='raise-deprecating',\n",
       "             estimator=<keras.wrappers.scikit_learn.KerasClassifier object at 0x7f95df46b4e0>,\n",
       "             iid='warn', n_jobs=-1,\n",
       "             param_grid={'batch_size': [10, 25, 32, 100],\n",
       "                         'nb_epoch': [100, 500],\n",
       "                         'optimizer': ['adam', 'rmsprop'], 'units': [6, 12]},\n",
       "             pre_dispatch='2*n_jobs', refit=True, return_train_score=False,\n",
       "             scoring='accuracy', verbose=0)"
      ]
     },
     "execution_count": 87,
     "metadata": {},
     "output_type": "execute_result"
    }
   ],
   "source": [
    "grid_search.fit(X_train,y_train)"
   ]
  },
  {
   "cell_type": "code",
   "execution_count": 89,
   "metadata": {},
   "outputs": [
    {
     "data": {
      "text/plain": [
       "{'batch_size': 10, 'nb_epoch': 100, 'optimizer': 'adam', 'units': 12}"
      ]
     },
     "execution_count": 89,
     "metadata": {},
     "output_type": "execute_result"
    }
   ],
   "source": [
    "grid_search.best_params_"
   ]
  },
  {
   "cell_type": "code",
   "execution_count": null,
   "metadata": {},
   "outputs": [],
   "source": []
  }
 ],
 "metadata": {
  "kernelspec": {
   "display_name": "Python 3",
   "language": "python",
   "name": "python3"
  },
  "language_info": {
   "codemirror_mode": {
    "name": "ipython",
    "version": 3
   },
   "file_extension": ".py",
   "mimetype": "text/x-python",
   "name": "python",
   "nbconvert_exporter": "python",
   "pygments_lexer": "ipython3",
   "version": "3.6.7"
  }
 },
 "nbformat": 4,
 "nbformat_minor": 2
}
